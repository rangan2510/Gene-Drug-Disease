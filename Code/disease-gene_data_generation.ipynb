{
 "cells": [
  {
   "cell_type": "code",
   "execution_count": 1,
   "id": "823603fe",
   "metadata": {},
   "outputs": [
    {
     "name": "stderr",
     "output_type": "stream",
     "text": [
      "Using backend: pytorch\n"
     ]
    }
   ],
   "source": [
    "import sqlite3\n",
    "import networkx as nx\n",
    "import dgl\n",
    "import torch as th\n",
    "import scipy.sparse as sp"
   ]
  },
  {
   "cell_type": "code",
   "execution_count": 2,
   "id": "2687d2a1",
   "metadata": {},
   "outputs": [],
   "source": [
    "try:\n",
    "    conn=sqlite3.connect('disgenet_2020.db')\n",
    "except Exception as e:\n",
    "    print(\"cannot open database\",str(e))\n",
    "#results = conn.execute('SELECT name FROM sqlite_schemaWHERE type='table' ORDER BY name')\n",
    "                       "
   ]
  },
  {
   "cell_type": "code",
   "execution_count": 3,
   "id": "f80e7aaa",
   "metadata": {},
   "outputs": [],
   "source": [
    "result=conn.execute('SELECT name FROM sqlite_schema Where type=\"table\" Order by name')"
   ]
  },
  {
   "cell_type": "code",
   "execution_count": 5,
   "id": "b9e285eb",
   "metadata": {},
   "outputs": [
    {
     "name": "stdout",
     "output_type": "stream",
     "text": [
      "('disease2class',)\n",
      "('diseaseAttributes',)\n",
      "('diseaseClass',)\n",
      "('geneAttributes',)\n",
      "('geneDiseaseNetwork',)\n",
      "('variantAttributes',)\n",
      "('variantDiseaseNetwork',)\n",
      "('variantGene',)\n"
     ]
    }
   ],
   "source": [
    "for r in result:\n",
    "    print (r)"
   ]
  },
  {
   "cell_type": "code",
   "execution_count": 8,
   "id": "78cd66c8",
   "metadata": {},
   "outputs": [],
   "source": [
    "import pandas as pd"
   ]
  },
  {
   "cell_type": "code",
   "execution_count": 51,
   "id": "07cbdc16",
   "metadata": {},
   "outputs": [],
   "source": [
    "sql=\"\"\"\n",
    "select * from geneDiseaseNetwork\n",
    "\n",
    "\"\"\""
   ]
  },
  {
   "cell_type": "code",
   "execution_count": 40,
   "id": "c664cc89",
   "metadata": {},
   "outputs": [],
   "source": [
    "df=pd.read_sql_query(sql,conn)"
   ]
  },
  {
   "cell_type": "code",
   "execution_count": 41,
   "id": "af8d7b56",
   "metadata": {},
   "outputs": [
    {
     "data": {
      "text/html": [
       "<div>\n",
       "<style scoped>\n",
       "    .dataframe tbody tr th:only-of-type {\n",
       "        vertical-align: middle;\n",
       "    }\n",
       "\n",
       "    .dataframe tbody tr th {\n",
       "        vertical-align: top;\n",
       "    }\n",
       "\n",
       "    .dataframe thead th {\n",
       "        text-align: right;\n",
       "    }\n",
       "</style>\n",
       "<table border=\"1\" class=\"dataframe\">\n",
       "  <thead>\n",
       "    <tr style=\"text-align: right;\">\n",
       "      <th></th>\n",
       "      <th>NID</th>\n",
       "      <th>diseaseNID</th>\n",
       "      <th>geneNID</th>\n",
       "      <th>source</th>\n",
       "      <th>association</th>\n",
       "      <th>associationType</th>\n",
       "      <th>sentence</th>\n",
       "      <th>pmid</th>\n",
       "      <th>score</th>\n",
       "      <th>EL</th>\n",
       "      <th>EI</th>\n",
       "      <th>year</th>\n",
       "    </tr>\n",
       "  </thead>\n",
       "  <tbody>\n",
       "    <tr>\n",
       "      <th>0</th>\n",
       "      <td>1130681</td>\n",
       "      <td>2107</td>\n",
       "      <td>793</td>\n",
       "      <td>BEFREE</td>\n",
       "      <td>NaN</td>\n",
       "      <td>Biomarker</td>\n",
       "      <td>No correlation could be found between Broder's...</td>\n",
       "      <td>1000501.0</td>\n",
       "      <td>0.10</td>\n",
       "      <td>None</td>\n",
       "      <td>0.956175</td>\n",
       "      <td>1976</td>\n",
       "    </tr>\n",
       "    <tr>\n",
       "      <th>1</th>\n",
       "      <td>261998</td>\n",
       "      <td>431</td>\n",
       "      <td>775</td>\n",
       "      <td>BEFREE</td>\n",
       "      <td>NaN</td>\n",
       "      <td>GeneticVariation</td>\n",
       "      <td>However, there are few reports describing soma...</td>\n",
       "      <td>10021299.0</td>\n",
       "      <td>0.40</td>\n",
       "      <td>None</td>\n",
       "      <td>0.987013</td>\n",
       "      <td>1999</td>\n",
       "    </tr>\n",
       "    <tr>\n",
       "      <th>2</th>\n",
       "      <td>369637</td>\n",
       "      <td>450</td>\n",
       "      <td>775</td>\n",
       "      <td>BEFREE</td>\n",
       "      <td>NaN</td>\n",
       "      <td>GeneticVariation</td>\n",
       "      <td>WAF1 genotype and endometrial cancer susceptib...</td>\n",
       "      <td>10021299.0</td>\n",
       "      <td>0.02</td>\n",
       "      <td>None</td>\n",
       "      <td>1.000000</td>\n",
       "      <td>1999</td>\n",
       "    </tr>\n",
       "    <tr>\n",
       "      <th>3</th>\n",
       "      <td>2128526</td>\n",
       "      <td>10033</td>\n",
       "      <td>775</td>\n",
       "      <td>BEFREE</td>\n",
       "      <td>NaN</td>\n",
       "      <td>GeneticVariation</td>\n",
       "      <td>WAF1 genotype and endometrial cancer susceptib...</td>\n",
       "      <td>10021299.0</td>\n",
       "      <td>0.07</td>\n",
       "      <td>None</td>\n",
       "      <td>1.000000</td>\n",
       "      <td>1999</td>\n",
       "    </tr>\n",
       "    <tr>\n",
       "      <th>4</th>\n",
       "      <td>262799</td>\n",
       "      <td>431</td>\n",
       "      <td>7385</td>\n",
       "      <td>BEFREE</td>\n",
       "      <td>NaN</td>\n",
       "      <td>Biomarker</td>\n",
       "      <td>APC and APC2 may therefore have comparable fun...</td>\n",
       "      <td>10021369.0</td>\n",
       "      <td>0.01</td>\n",
       "      <td>None</td>\n",
       "      <td>1.000000</td>\n",
       "      <td>1999</td>\n",
       "    </tr>\n",
       "  </tbody>\n",
       "</table>\n",
       "</div>"
      ],
      "text/plain": [
       "       NID  diseaseNID  geneNID  source  association   associationType  \\\n",
       "0  1130681        2107      793  BEFREE          NaN         Biomarker   \n",
       "1   261998         431      775  BEFREE          NaN  GeneticVariation   \n",
       "2   369637         450      775  BEFREE          NaN  GeneticVariation   \n",
       "3  2128526       10033      775  BEFREE          NaN  GeneticVariation   \n",
       "4   262799         431     7385  BEFREE          NaN         Biomarker   \n",
       "\n",
       "                                            sentence        pmid  score    EL  \\\n",
       "0  No correlation could be found between Broder's...   1000501.0   0.10  None   \n",
       "1  However, there are few reports describing soma...  10021299.0   0.40  None   \n",
       "2  WAF1 genotype and endometrial cancer susceptib...  10021299.0   0.02  None   \n",
       "3  WAF1 genotype and endometrial cancer susceptib...  10021299.0   0.07  None   \n",
       "4  APC and APC2 may therefore have comparable fun...  10021369.0   0.01  None   \n",
       "\n",
       "         EI  year  \n",
       "0  0.956175  1976  \n",
       "1  0.987013  1999  \n",
       "2  1.000000  1999  \n",
       "3  1.000000  1999  \n",
       "4  1.000000  1999  "
      ]
     },
     "execution_count": 41,
     "metadata": {},
     "output_type": "execute_result"
    }
   ],
   "source": [
    "df.head()"
   ]
  },
  {
   "cell_type": "code",
   "execution_count": 42,
   "id": "97a0323e",
   "metadata": {},
   "outputs": [],
   "source": [
    "df.to_csv('Edges-Inter.csv')"
   ]
  },
  {
   "cell_type": "code",
   "execution_count": null,
   "id": "58876dc8",
   "metadata": {},
   "outputs": [],
   "source": []
  },
  {
   "cell_type": "code",
   "execution_count": null,
   "id": "b81779b4",
   "metadata": {},
   "outputs": [],
   "source": []
  },
  {
   "cell_type": "code",
   "execution_count": 30,
   "id": "3b4224ed",
   "metadata": {},
   "outputs": [],
   "source": [
    "df.to_csv('Diseases.csv')\n"
   ]
  },
  {
   "cell_type": "code",
   "execution_count": null,
   "id": "47bdacc6",
   "metadata": {},
   "outputs": [],
   "source": [
    "df=pd.read_sql_query()"
   ]
  },
  {
   "cell_type": "code",
   "execution_count": 31,
   "id": "f4ae377a",
   "metadata": {},
   "outputs": [],
   "source": [
    "conn.close()"
   ]
  },
  {
   "cell_type": "code",
   "execution_count": 9,
   "id": "ef353b0a",
   "metadata": {},
   "outputs": [
    {
     "data": {
      "text/plain": [
       "<sqlite3.Cursor at 0x1d3339d8f80>"
      ]
     },
     "execution_count": 9,
     "metadata": {},
     "output_type": "execute_result"
    }
   ],
   "source": [
    "result"
   ]
  },
  {
   "cell_type": "code",
   "execution_count": 32,
   "id": "2be1a194",
   "metadata": {},
   "outputs": [
    {
     "ename": "ProgrammingError",
     "evalue": "Cannot operate on a closed database.",
     "output_type": "error",
     "traceback": [
      "\u001b[1;31m---------------------------------------------------------------------------\u001b[0m",
      "\u001b[1;31mProgrammingError\u001b[0m                          Traceback (most recent call last)",
      "\u001b[1;32mC:\\Users\\SOMTIR~1\\AppData\\Local\\Temp/ipykernel_16008/2967681521.py\u001b[0m in \u001b[0;36m<module>\u001b[1;34m\u001b[0m\n\u001b[1;32m----> 1\u001b[1;33m \u001b[0mr\u001b[0m\u001b[1;33m=\u001b[0m\u001b[0mconn\u001b[0m\u001b[1;33m.\u001b[0m\u001b[0mexecute\u001b[0m\u001b[1;33m(\u001b[0m\u001b[1;34m'select * from geneAttributes'\u001b[0m\u001b[1;33m)\u001b[0m\u001b[1;33m\u001b[0m\u001b[1;33m\u001b[0m\u001b[0m\n\u001b[0m",
      "\u001b[1;31mProgrammingError\u001b[0m: Cannot operate on a closed database."
     ]
    }
   ],
   "source": [
    "r=conn.execute('select * from geneAttributes')"
   ]
  },
  {
   "cell_type": "code",
   "execution_count": 9,
   "id": "b1bb4250",
   "metadata": {},
   "outputs": [],
   "source": [
    "df=pd.read_csv('Diseases.csv')"
   ]
  },
  {
   "cell_type": "code",
   "execution_count": 10,
   "id": "071753c7",
   "metadata": {},
   "outputs": [
    {
     "data": {
      "text/html": [
       "<div>\n",
       "<style scoped>\n",
       "    .dataframe tbody tr th:only-of-type {\n",
       "        vertical-align: middle;\n",
       "    }\n",
       "\n",
       "    .dataframe tbody tr th {\n",
       "        vertical-align: top;\n",
       "    }\n",
       "\n",
       "    .dataframe thead th {\n",
       "        text-align: right;\n",
       "    }\n",
       "</style>\n",
       "<table border=\"1\" class=\"dataframe\">\n",
       "  <thead>\n",
       "    <tr style=\"text-align: right;\">\n",
       "      <th></th>\n",
       "      <th>Unnamed: 0</th>\n",
       "      <th>Unnamed: 0.1</th>\n",
       "      <th>diseaseNID</th>\n",
       "      <th>diseaseId</th>\n",
       "      <th>diseaseName</th>\n",
       "      <th>type</th>\n",
       "    </tr>\n",
       "  </thead>\n",
       "  <tbody>\n",
       "    <tr>\n",
       "      <th>0</th>\n",
       "      <td>0</td>\n",
       "      <td>0</td>\n",
       "      <td>1</td>\n",
       "      <td>C0000727</td>\n",
       "      <td>Abdomen, Acute</td>\n",
       "      <td>phenotype</td>\n",
       "    </tr>\n",
       "    <tr>\n",
       "      <th>1</th>\n",
       "      <td>1</td>\n",
       "      <td>1</td>\n",
       "      <td>2</td>\n",
       "      <td>C0000729</td>\n",
       "      <td>Abdominal Cramps</td>\n",
       "      <td>phenotype</td>\n",
       "    </tr>\n",
       "    <tr>\n",
       "      <th>2</th>\n",
       "      <td>2</td>\n",
       "      <td>2</td>\n",
       "      <td>3</td>\n",
       "      <td>C0000731</td>\n",
       "      <td>Abdomen distended</td>\n",
       "      <td>phenotype</td>\n",
       "    </tr>\n",
       "    <tr>\n",
       "      <th>3</th>\n",
       "      <td>3</td>\n",
       "      <td>3</td>\n",
       "      <td>4</td>\n",
       "      <td>C0000734</td>\n",
       "      <td>Abdominal mass</td>\n",
       "      <td>phenotype</td>\n",
       "    </tr>\n",
       "    <tr>\n",
       "      <th>4</th>\n",
       "      <td>4</td>\n",
       "      <td>4</td>\n",
       "      <td>5</td>\n",
       "      <td>C0000735</td>\n",
       "      <td>Abdominal Neoplasms</td>\n",
       "      <td>group</td>\n",
       "    </tr>\n",
       "  </tbody>\n",
       "</table>\n",
       "</div>"
      ],
      "text/plain": [
       "   Unnamed: 0  Unnamed: 0.1  diseaseNID diseaseId          diseaseName  \\\n",
       "0           0             0           1  C0000727       Abdomen, Acute   \n",
       "1           1             1           2  C0000729     Abdominal Cramps   \n",
       "2           2             2           3  C0000731    Abdomen distended   \n",
       "3           3             3           4  C0000734       Abdominal mass   \n",
       "4           4             4           5  C0000735  Abdominal Neoplasms   \n",
       "\n",
       "        type  \n",
       "0  phenotype  \n",
       "1  phenotype  \n",
       "2  phenotype  \n",
       "3  phenotype  \n",
       "4      group  "
      ]
     },
     "execution_count": 10,
     "metadata": {},
     "output_type": "execute_result"
    }
   ],
   "source": [
    "df.head()"
   ]
  },
  {
   "cell_type": "code",
   "execution_count": 12,
   "id": "a6764054",
   "metadata": {},
   "outputs": [],
   "source": [
    "df1=df.drop(columns=['Unnamed: 0','Unnamed: 0.1','diseaseId','type'])"
   ]
  },
  {
   "cell_type": "code",
   "execution_count": 13,
   "id": "dbd2f7e7",
   "metadata": {},
   "outputs": [],
   "source": [
    "df1.to_csv('diseases_1.csv')"
   ]
  },
  {
   "cell_type": "code",
   "execution_count": 14,
   "id": "b607d307",
   "metadata": {},
   "outputs": [],
   "source": [
    "df=pd.read_csv('Genes.csv')"
   ]
  },
  {
   "cell_type": "code",
   "execution_count": 15,
   "id": "e224d60f",
   "metadata": {},
   "outputs": [
    {
     "data": {
      "text/html": [
       "<div>\n",
       "<style scoped>\n",
       "    .dataframe tbody tr th:only-of-type {\n",
       "        vertical-align: middle;\n",
       "    }\n",
       "\n",
       "    .dataframe tbody tr th {\n",
       "        vertical-align: top;\n",
       "    }\n",
       "\n",
       "    .dataframe thead th {\n",
       "        text-align: right;\n",
       "    }\n",
       "</style>\n",
       "<table border=\"1\" class=\"dataframe\">\n",
       "  <thead>\n",
       "    <tr style=\"text-align: right;\">\n",
       "      <th></th>\n",
       "      <th>Unnamed: 0</th>\n",
       "      <th>Unnamed: 0.1</th>\n",
       "      <th>geneNID</th>\n",
       "      <th>geneId</th>\n",
       "      <th>geneName</th>\n",
       "      <th>geneDescription</th>\n",
       "      <th>pLI</th>\n",
       "      <th>DSI</th>\n",
       "      <th>DPI</th>\n",
       "    </tr>\n",
       "  </thead>\n",
       "  <tbody>\n",
       "    <tr>\n",
       "      <th>0</th>\n",
       "      <td>0</td>\n",
       "      <td>0</td>\n",
       "      <td>1</td>\n",
       "      <td>1</td>\n",
       "      <td>A1BG</td>\n",
       "      <td>alpha-1-B glycoprotein</td>\n",
       "      <td>4.990000e-09</td>\n",
       "      <td>0.700</td>\n",
       "      <td>0.538</td>\n",
       "    </tr>\n",
       "    <tr>\n",
       "      <th>1</th>\n",
       "      <td>1</td>\n",
       "      <td>1</td>\n",
       "      <td>2</td>\n",
       "      <td>2</td>\n",
       "      <td>A2M</td>\n",
       "      <td>alpha-2-macroglobulin</td>\n",
       "      <td>4.520000e-11</td>\n",
       "      <td>0.529</td>\n",
       "      <td>0.769</td>\n",
       "    </tr>\n",
       "    <tr>\n",
       "      <th>2</th>\n",
       "      <td>2</td>\n",
       "      <td>2</td>\n",
       "      <td>3</td>\n",
       "      <td>3</td>\n",
       "      <td>A2MP1</td>\n",
       "      <td>alpha-2-macroglobulin pseudogene 1</td>\n",
       "      <td>NaN</td>\n",
       "      <td>NaN</td>\n",
       "      <td>NaN</td>\n",
       "    </tr>\n",
       "    <tr>\n",
       "      <th>3</th>\n",
       "      <td>3</td>\n",
       "      <td>3</td>\n",
       "      <td>4</td>\n",
       "      <td>9</td>\n",
       "      <td>NAT1</td>\n",
       "      <td>N-acetyltransferase 1</td>\n",
       "      <td>1.930000e-14</td>\n",
       "      <td>0.536</td>\n",
       "      <td>0.846</td>\n",
       "    </tr>\n",
       "    <tr>\n",
       "      <th>4</th>\n",
       "      <td>4</td>\n",
       "      <td>4</td>\n",
       "      <td>5</td>\n",
       "      <td>10</td>\n",
       "      <td>NAT2</td>\n",
       "      <td>N-acetyltransferase 2</td>\n",
       "      <td>3.270000e-06</td>\n",
       "      <td>0.451</td>\n",
       "      <td>0.885</td>\n",
       "    </tr>\n",
       "  </tbody>\n",
       "</table>\n",
       "</div>"
      ],
      "text/plain": [
       "   Unnamed: 0  Unnamed: 0.1  geneNID  geneId geneName  \\\n",
       "0           0             0        1       1     A1BG   \n",
       "1           1             1        2       2      A2M   \n",
       "2           2             2        3       3    A2MP1   \n",
       "3           3             3        4       9     NAT1   \n",
       "4           4             4        5      10     NAT2   \n",
       "\n",
       "                      geneDescription           pLI    DSI    DPI  \n",
       "0              alpha-1-B glycoprotein  4.990000e-09  0.700  0.538  \n",
       "1               alpha-2-macroglobulin  4.520000e-11  0.529  0.769  \n",
       "2  alpha-2-macroglobulin pseudogene 1           NaN    NaN    NaN  \n",
       "3               N-acetyltransferase 1  1.930000e-14  0.536  0.846  \n",
       "4               N-acetyltransferase 2  3.270000e-06  0.451  0.885  "
      ]
     },
     "execution_count": 15,
     "metadata": {},
     "output_type": "execute_result"
    }
   ],
   "source": [
    "df.head()"
   ]
  },
  {
   "cell_type": "code",
   "execution_count": 16,
   "id": "5983bddf",
   "metadata": {},
   "outputs": [],
   "source": [
    "df1=df.drop(columns=['Unnamed: 0','Unnamed: 0.1','geneId','geneDescription','pLI','DSI','DPI'])"
   ]
  },
  {
   "cell_type": "code",
   "execution_count": 18,
   "id": "4c501c35",
   "metadata": {},
   "outputs": [],
   "source": [
    "df1.to_csv('genes_1.csv')"
   ]
  },
  {
   "cell_type": "code",
   "execution_count": 20,
   "id": "67208f0e",
   "metadata": {},
   "outputs": [
    {
     "data": {
      "text/html": [
       "<div>\n",
       "<style scoped>\n",
       "    .dataframe tbody tr th:only-of-type {\n",
       "        vertical-align: middle;\n",
       "    }\n",
       "\n",
       "    .dataframe tbody tr th {\n",
       "        vertical-align: top;\n",
       "    }\n",
       "\n",
       "    .dataframe thead th {\n",
       "        text-align: right;\n",
       "    }\n",
       "</style>\n",
       "<table border=\"1\" class=\"dataframe\">\n",
       "  <thead>\n",
       "    <tr style=\"text-align: right;\">\n",
       "      <th></th>\n",
       "      <th>Unnamed: 0</th>\n",
       "      <th>NID</th>\n",
       "      <th>diseaseNID</th>\n",
       "      <th>geneNID</th>\n",
       "      <th>source</th>\n",
       "      <th>association</th>\n",
       "      <th>associationType</th>\n",
       "      <th>sentence</th>\n",
       "      <th>pmid</th>\n",
       "      <th>score</th>\n",
       "      <th>EL</th>\n",
       "      <th>EI</th>\n",
       "      <th>year</th>\n",
       "    </tr>\n",
       "  </thead>\n",
       "  <tbody>\n",
       "    <tr>\n",
       "      <th>0</th>\n",
       "      <td>0</td>\n",
       "      <td>1130681</td>\n",
       "      <td>2107</td>\n",
       "      <td>793</td>\n",
       "      <td>BEFREE</td>\n",
       "      <td>NaN</td>\n",
       "      <td>Biomarker</td>\n",
       "      <td>No correlation could be found between Broder's...</td>\n",
       "      <td>1000501.0</td>\n",
       "      <td>0.10</td>\n",
       "      <td>NaN</td>\n",
       "      <td>0.956175</td>\n",
       "      <td>1976.0</td>\n",
       "    </tr>\n",
       "    <tr>\n",
       "      <th>1</th>\n",
       "      <td>1</td>\n",
       "      <td>261998</td>\n",
       "      <td>431</td>\n",
       "      <td>775</td>\n",
       "      <td>BEFREE</td>\n",
       "      <td>NaN</td>\n",
       "      <td>GeneticVariation</td>\n",
       "      <td>However, there are few reports describing soma...</td>\n",
       "      <td>10021299.0</td>\n",
       "      <td>0.40</td>\n",
       "      <td>NaN</td>\n",
       "      <td>0.987013</td>\n",
       "      <td>1999.0</td>\n",
       "    </tr>\n",
       "    <tr>\n",
       "      <th>2</th>\n",
       "      <td>2</td>\n",
       "      <td>369637</td>\n",
       "      <td>450</td>\n",
       "      <td>775</td>\n",
       "      <td>BEFREE</td>\n",
       "      <td>NaN</td>\n",
       "      <td>GeneticVariation</td>\n",
       "      <td>WAF1 genotype and endometrial cancer susceptib...</td>\n",
       "      <td>10021299.0</td>\n",
       "      <td>0.02</td>\n",
       "      <td>NaN</td>\n",
       "      <td>1.000000</td>\n",
       "      <td>1999.0</td>\n",
       "    </tr>\n",
       "    <tr>\n",
       "      <th>3</th>\n",
       "      <td>3</td>\n",
       "      <td>2128526</td>\n",
       "      <td>10033</td>\n",
       "      <td>775</td>\n",
       "      <td>BEFREE</td>\n",
       "      <td>NaN</td>\n",
       "      <td>GeneticVariation</td>\n",
       "      <td>WAF1 genotype and endometrial cancer susceptib...</td>\n",
       "      <td>10021299.0</td>\n",
       "      <td>0.07</td>\n",
       "      <td>NaN</td>\n",
       "      <td>1.000000</td>\n",
       "      <td>1999.0</td>\n",
       "    </tr>\n",
       "    <tr>\n",
       "      <th>4</th>\n",
       "      <td>4</td>\n",
       "      <td>262799</td>\n",
       "      <td>431</td>\n",
       "      <td>7385</td>\n",
       "      <td>BEFREE</td>\n",
       "      <td>NaN</td>\n",
       "      <td>Biomarker</td>\n",
       "      <td>APC and APC2 may therefore have comparable fun...</td>\n",
       "      <td>10021369.0</td>\n",
       "      <td>0.01</td>\n",
       "      <td>NaN</td>\n",
       "      <td>1.000000</td>\n",
       "      <td>1999.0</td>\n",
       "    </tr>\n",
       "  </tbody>\n",
       "</table>\n",
       "</div>"
      ],
      "text/plain": [
       "   Unnamed: 0      NID  diseaseNID  geneNID  source  association  \\\n",
       "0           0  1130681        2107      793  BEFREE          NaN   \n",
       "1           1   261998         431      775  BEFREE          NaN   \n",
       "2           2   369637         450      775  BEFREE          NaN   \n",
       "3           3  2128526       10033      775  BEFREE          NaN   \n",
       "4           4   262799         431     7385  BEFREE          NaN   \n",
       "\n",
       "    associationType                                           sentence  \\\n",
       "0         Biomarker  No correlation could be found between Broder's...   \n",
       "1  GeneticVariation  However, there are few reports describing soma...   \n",
       "2  GeneticVariation  WAF1 genotype and endometrial cancer susceptib...   \n",
       "3  GeneticVariation  WAF1 genotype and endometrial cancer susceptib...   \n",
       "4         Biomarker  APC and APC2 may therefore have comparable fun...   \n",
       "\n",
       "         pmid  score   EL        EI    year  \n",
       "0   1000501.0   0.10  NaN  0.956175  1976.0  \n",
       "1  10021299.0   0.40  NaN  0.987013  1999.0  \n",
       "2  10021299.0   0.02  NaN  1.000000  1999.0  \n",
       "3  10021299.0   0.07  NaN  1.000000  1999.0  \n",
       "4  10021369.0   0.01  NaN  1.000000  1999.0  "
      ]
     },
     "execution_count": 20,
     "metadata": {},
     "output_type": "execute_result"
    }
   ],
   "source": [
    "df.head()"
   ]
  },
  {
   "cell_type": "code",
   "execution_count": 22,
   "id": "be81b387",
   "metadata": {},
   "outputs": [],
   "source": [
    "df1=df.drop(columns=['Unnamed: 0','NID','source','association','associationType','sentence','pmid','score','EL','EI','year'])"
   ]
  },
  {
   "cell_type": "code",
   "execution_count": 23,
   "id": "e0cf1aa0",
   "metadata": {},
   "outputs": [],
   "source": [
    "df1.to_csv('edges.csv')"
   ]
  },
  {
   "cell_type": "code",
   "execution_count": 7,
   "id": "d5df3546",
   "metadata": {},
   "outputs": [],
   "source": [
    "df=pd.read_csv('genes.csv')"
   ]
  },
  {
   "cell_type": "code",
   "execution_count": 8,
   "id": "c9a317c9",
   "metadata": {},
   "outputs": [
    {
     "data": {
      "text/html": [
       "<div>\n",
       "<style scoped>\n",
       "    .dataframe tbody tr th:only-of-type {\n",
       "        vertical-align: middle;\n",
       "    }\n",
       "\n",
       "    .dataframe tbody tr th {\n",
       "        vertical-align: top;\n",
       "    }\n",
       "\n",
       "    .dataframe thead th {\n",
       "        text-align: right;\n",
       "    }\n",
       "</style>\n",
       "<table border=\"1\" class=\"dataframe\">\n",
       "  <thead>\n",
       "    <tr style=\"text-align: right;\">\n",
       "      <th></th>\n",
       "      <th>Unnamed: 0</th>\n",
       "      <th>Unnamed: 0.1</th>\n",
       "      <th>geneNID</th>\n",
       "      <th>geneId</th>\n",
       "      <th>geneName</th>\n",
       "      <th>geneDescription</th>\n",
       "      <th>pLI</th>\n",
       "      <th>DSI</th>\n",
       "      <th>DPI</th>\n",
       "    </tr>\n",
       "  </thead>\n",
       "  <tbody>\n",
       "    <tr>\n",
       "      <th>0</th>\n",
       "      <td>0</td>\n",
       "      <td>0</td>\n",
       "      <td>1</td>\n",
       "      <td>1</td>\n",
       "      <td>A1BG</td>\n",
       "      <td>alpha-1-B glycoprotein</td>\n",
       "      <td>4.990000e-09</td>\n",
       "      <td>0.700</td>\n",
       "      <td>0.538</td>\n",
       "    </tr>\n",
       "    <tr>\n",
       "      <th>1</th>\n",
       "      <td>1</td>\n",
       "      <td>1</td>\n",
       "      <td>2</td>\n",
       "      <td>2</td>\n",
       "      <td>A2M</td>\n",
       "      <td>alpha-2-macroglobulin</td>\n",
       "      <td>4.520000e-11</td>\n",
       "      <td>0.529</td>\n",
       "      <td>0.769</td>\n",
       "    </tr>\n",
       "    <tr>\n",
       "      <th>2</th>\n",
       "      <td>2</td>\n",
       "      <td>2</td>\n",
       "      <td>3</td>\n",
       "      <td>3</td>\n",
       "      <td>A2MP1</td>\n",
       "      <td>alpha-2-macroglobulin pseudogene 1</td>\n",
       "      <td>NaN</td>\n",
       "      <td>NaN</td>\n",
       "      <td>NaN</td>\n",
       "    </tr>\n",
       "    <tr>\n",
       "      <th>3</th>\n",
       "      <td>3</td>\n",
       "      <td>3</td>\n",
       "      <td>4</td>\n",
       "      <td>9</td>\n",
       "      <td>NAT1</td>\n",
       "      <td>N-acetyltransferase 1</td>\n",
       "      <td>1.930000e-14</td>\n",
       "      <td>0.536</td>\n",
       "      <td>0.846</td>\n",
       "    </tr>\n",
       "    <tr>\n",
       "      <th>4</th>\n",
       "      <td>4</td>\n",
       "      <td>4</td>\n",
       "      <td>5</td>\n",
       "      <td>10</td>\n",
       "      <td>NAT2</td>\n",
       "      <td>N-acetyltransferase 2</td>\n",
       "      <td>3.270000e-06</td>\n",
       "      <td>0.451</td>\n",
       "      <td>0.885</td>\n",
       "    </tr>\n",
       "  </tbody>\n",
       "</table>\n",
       "</div>"
      ],
      "text/plain": [
       "   Unnamed: 0  Unnamed: 0.1  geneNID  geneId geneName  \\\n",
       "0           0             0        1       1     A1BG   \n",
       "1           1             1        2       2      A2M   \n",
       "2           2             2        3       3    A2MP1   \n",
       "3           3             3        4       9     NAT1   \n",
       "4           4             4        5      10     NAT2   \n",
       "\n",
       "                      geneDescription           pLI    DSI    DPI  \n",
       "0              alpha-1-B glycoprotein  4.990000e-09  0.700  0.538  \n",
       "1               alpha-2-macroglobulin  4.520000e-11  0.529  0.769  \n",
       "2  alpha-2-macroglobulin pseudogene 1           NaN    NaN    NaN  \n",
       "3               N-acetyltransferase 1  1.930000e-14  0.536  0.846  \n",
       "4               N-acetyltransferase 2  3.270000e-06  0.451  0.885  "
      ]
     },
     "execution_count": 8,
     "metadata": {},
     "output_type": "execute_result"
    }
   ],
   "source": [
    "df.head()"
   ]
  },
  {
   "cell_type": "code",
   "execution_count": null,
   "id": "c66d8a14",
   "metadata": {},
   "outputs": [],
   "source": [
    "df=pd.read_csv('Edges-Inter.csv')\n",
    "df=df.drop(columns=['Unnamed: 0','NID','source','association','associationType','sentence','pmid','score','EL','EI','year'])\n",
    "df.to_csv(r'fullgraph.txt', header=None, index=None, sep=' ', mode='a')"
   ]
  },
  {
   "cell_type": "code",
   "execution_count": null,
   "id": "fde55d95",
   "metadata": {},
   "outputs": [],
   "source": [
    "G=nx.read_edgelist('./fullgraph.txt')\n",
    "print(nx.info(G))"
   ]
  },
  {
   "cell_type": "code",
   "execution_count": null,
   "id": "3d1f4284",
   "metadata": {},
   "outputs": [],
   "source": [
    "DG=dgl.from_networkx(G)\n",
    "print(DG)"
   ]
  },
  {
   "cell_type": "code",
   "execution_count": null,
   "id": "f0b2b7f0",
   "metadata": {},
   "outputs": [],
   "source": [
    "from dgl.data.utils import save_graphs\n",
    "graph_labels = {\"glabel\": th.tensor([0])}\n",
    "save_graphs(\"./dgl_graph.bin\", [g1], graph_labels)"
   ]
  }
 ],
 "metadata": {
  "kernelspec": {
   "display_name": "Python 3 (ipykernel)",
   "language": "python",
   "name": "python3"
  },
  "language_info": {
   "codemirror_mode": {
    "name": "ipython",
    "version": 3
   },
   "file_extension": ".py",
   "mimetype": "text/x-python",
   "name": "python",
   "nbconvert_exporter": "python",
   "pygments_lexer": "ipython3",
   "version": "3.7.11"
  }
 },
 "nbformat": 4,
 "nbformat_minor": 5
}
